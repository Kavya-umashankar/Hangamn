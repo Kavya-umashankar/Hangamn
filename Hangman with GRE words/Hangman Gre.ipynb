{
 "cells": [
  {
   "cell_type": "code",
   "execution_count": 10,
   "metadata": {},
   "outputs": [],
   "source": [
    "import csv\n",
    "file = open(\"words list.csv\", 'r')\n",
    "reader=csv.reader(file)\n",
    "mydict={}\n",
    "for row in reader:\n",
    "    mydict.update( {row[0] : row[1]} )\n",
    "#mydict"
   ]
  },
  {
   "cell_type": "code",
   "execution_count": 14,
   "metadata": {},
   "outputs": [
    {
     "name": "stdout",
     "output_type": "stream",
     "text": [
      "ambidextrous  able to use the left hand or the right equally well \n"
     ]
    }
   ],
   "source": [
    "import random\n",
    "word, meaning = random.choice(list(mydict.items()))\n",
    "print(word,meaning)"
   ]
  },
  {
   "cell_type": "code",
   "execution_count": null,
   "metadata": {},
   "outputs": [
    {
     "name": "stdout",
     "output_type": "stream",
     "text": [
      "Start guessing !!\n",
      "_  _  _  _  _  _  _  _  _  _  _  _  _  \n",
      "CLUE : The word means:  able to use the left hand or the right equally well \n"
     ]
    }
   ],
   "source": [
    "import random as rd\n",
    "#name = input(\"enter you name \")\n",
    "#print(\"hello \", name, \" ,welcome! Are you ready to play hangman!\\nlets go!\")\n",
    "#file = open(\"file.txt\", 'r')\n",
    "words = []\n",
    "guessed_list = []\n",
    "select = word\n",
    "selected = []\n",
    "for i in select:\n",
    "    selected += i\n",
    "#print(selected)\n",
    "#print(select)\n",
    "length = len(select)\n",
    "for i in range(length):\n",
    "    guessed_list += [\"_\"]\n",
    "tries = 4\n",
    "char_guessed = []\n",
    "print(\"Start guessing !!\")\n",
    "while tries > 0 :\n",
    "    if guessed_list == selected:\n",
    "        break\n",
    "    for i in range(length):\n",
    "        if guessed_list[i] == '_':\n",
    "            print(\"_ \", end=\" \")\n",
    "        else:\n",
    "            var = guessed_list[i]\n",
    "            print(var, end=\" \")\n",
    "    print()\n",
    "    print(\"CLUE : The word means: \",meaning)\n",
    "    guess = input(\"enter the character:  \")\n",
    "    if len(guess) > 1:\n",
    "        print(\"You have to guess a letter not words\")\n",
    "        print(\"\\nThe numbers of tries left are \", tries)\n",
    "        continue\n",
    "    if guess in char_guessed:\n",
    "        print(\"this character is already guessed!\")\n",
    "    else:\n",
    "        char_guessed += guess\n",
    "        if guess not in selected:\n",
    "            tries -= 1\n",
    "        for i in range(length):\n",
    "            if guess == selected[i]:\n",
    "                 guessed_list[i] = guess\n",
    "    print(\"\\nThe numbers of tries left are \", tries)\n",
    "if tries > 0:\n",
    "    print(\"yay! u guessed it right....\", select)\n",
    "else:\n",
    "    print(\"wrong answer.... the word is \", select)\n",
    "print(\"thank you\")\n"
   ]
  },
  {
   "cell_type": "code",
   "execution_count": null,
   "metadata": {},
   "outputs": [],
   "source": []
  }
 ],
 "metadata": {
  "kernelspec": {
   "display_name": "Python 3",
   "language": "python",
   "name": "python3"
  },
  "language_info": {
   "codemirror_mode": {
    "name": "ipython",
    "version": 3
   },
   "file_extension": ".py",
   "mimetype": "text/x-python",
   "name": "python",
   "nbconvert_exporter": "python",
   "pygments_lexer": "ipython3",
   "version": "3.7.4"
  }
 },
 "nbformat": 4,
 "nbformat_minor": 4
}
